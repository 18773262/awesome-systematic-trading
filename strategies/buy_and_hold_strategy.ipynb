{
 "cells": [
  {
   "cell_type": "markdown",
   "id": "22494725",
   "metadata": {},
   "source": [
    "Introduction"
   ]
  },
  {
   "cell_type": "code",
   "execution_count": null,
   "id": "24a0bc52",
   "metadata": {},
   "outputs": [],
   "source": [
    "from datetime import datetime\n",
    "import pytz\n",
    "\n",
    "import matplotlib.pyplot as plt\n",
    "import empyrical as ep\n",
    "import pandas as pd\n",
    "import pyfolio as pf\n",
    "from trading.v2 import BacktestEngine\n",
    "from trading.v2.util import read_data\n",
    "from trading.v2.strategy import StrategyBase\n",
    "\n",
    "\n",
    "class BuyAndHoldStrategy(StrategyBase):\n",
    "    \"\"\"\n",
    "    buy on the first tick then hold to the end\n",
    "    \"\"\"\n",
    "\n",
    "    def __init__(self):\n",
    "        super(BuyAndHoldStrategy, self).__init__()\n",
    "        self.invested = False\n",
    "\n",
    "    def on_tick(self, event):\n",
    "        symbol = self.symbols[0]\n",
    "        if not self.invested:\n",
    "            df_hist = self._data_board.get_hist_price(symbol, event.timestamp)\n",
    "            close = df_hist.iloc[-1].Close\n",
    "            target_size = int(self._position_manager.initial_capital / close)\n",
    "            self.adjust_position(\n",
    "                symbol, size_from=0, size_to=target_size, timestamp=event.timestamp\n",
    "            )\n",
    "            self.invested = True"
   ]
  },
  {
   "cell_type": "markdown",
   "id": "f21d9e8a",
   "metadata": {},
   "source": [
    "Run the strategy"
   ]
  },
  {
   "cell_type": "code",
   "execution_count": null,
   "id": "32209666",
   "metadata": {},
   "outputs": [],
   "source": [
    "df = read_data(\n",
    "    filepath=\"./test.csv\", instrument=\"37241eecabf1e7223b9db07d2c04fe2c\"\n",
    ")\n",
    "init_capital = 100_000.0\n",
    "test_start_date = datetime(\n",
    "    1990, 1, 1, 8, 30, 0, 0, pytz.timezone(\"America/New_York\")\n",
    ")\n",
    "test_end_date = datetime(\n",
    "    2022, 6, 24, 6, 0, 0, 0, pytz.timezone(\"America/New_York\")\n",
    ")\n",
    "strategy = BuyAndHoldStrategy()\n",
    "strategy.set_capital(init_capital)\n",
    "strategy.set_symbols([\"TTT\"])\n",
    "strategy.set_params(None)\n",
    "\n",
    "backtest_engine = BacktestEngine(test_start_date, test_end_date)\n",
    "backtest_engine.set_capital(\n",
    "    init_capital\n",
    ")  # capital or portfolio >= capital for one strategy\n",
    "backtest_engine.add_data(\"TTT\", df)\n",
    "backtest_engine.set_strategy(strategy)\n",
    "ds_equity, df_positions, df_trades = backtest_engine.run()\n",
    "\n",
    "# ------------------------- Evaluation and Plotting -------------------------------------- #\n",
    "strat_ret = ds_equity.pct_change().dropna()\n",
    "strat_ret.name = \"strat\"\n",
    "bm_ret = strat_ret.copy()\n",
    "bm_ret.name = \"benchmark\"\n",
    "print(strat_ret)\n",
    "\n",
    "perf_stats_strat = pf.timeseries.perf_stats(strat_ret)\n",
    "perf_stats_all = perf_stats_strat\n",
    "perf_stats_bm = pf.timeseries.perf_stats(bm_ret)\n",
    "perf_stats_all = pd.concat([perf_stats_strat, perf_stats_bm], axis=1)\n",
    "perf_stats_all.columns = [\"Strategy\", \"Benchmark\"]\n",
    "\n",
    "drawdown_table = pf.timeseries.gen_drawdown_table(strat_ret, 5)\n",
    "monthly_ret_table = ep.aggregate_returns(strat_ret, \"monthly\")\n",
    "monthly_ret_table = monthly_ret_table.unstack().round(3)\n",
    "ann_ret_df = pd.DataFrame(ep.aggregate_returns(strat_ret, \"yearly\"))\n",
    "ann_ret_df = ann_ret_df.unstack().round(3)\n",
    "\n",
    "print(\"-------------- PERFORMANCE ----------------\")\n",
    "print(perf_stats_all)\n",
    "print(\"-------------- DRAWDOWN ----------------\")\n",
    "print(drawdown_table)\n",
    "print(\"-------------- MONTHLY RETURN ----------------\")\n",
    "print(monthly_ret_table)\n",
    "print(\"-------------- ANNUAL RETURN ----------------\")\n",
    "print(ann_ret_df)\n",
    "\n",
    "pf.create_full_tear_sheet(\n",
    "    strat_ret,\n",
    "    benchmark_rets=bm_ret,\n",
    "    positions=df_positions,\n",
    "    transactions=df_trades,\n",
    "    round_trips=False,\n",
    ")\n",
    "plt.show()"
   ]
  }
 ],
 "metadata": {
  "kernelspec": {
   "display_name": "Python 3 (ipykernel)",
   "language": "python",
   "name": "python3"
  },
  "language_info": {
   "codemirror_mode": {
    "name": "ipython",
    "version": 3
   },
   "file_extension": ".py",
   "mimetype": "text/x-python",
   "name": "python",
   "nbconvert_exporter": "python",
   "pygments_lexer": "ipython3",
   "version": "3.9.1"
  }
 },
 "nbformat": 4,
 "nbformat_minor": 5
}
